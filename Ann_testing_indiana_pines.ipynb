{
  "nbformat": 4,
  "nbformat_minor": 0,
  "metadata": {
    "colab": {
      "name": "Ann_testing_indiana_pines.ipynb",
      "provenance": []
    },
    "kernelspec": {
      "name": "python3",
      "display_name": "Python 3"
    }
  },
  "cells": [
    {
      "cell_type": "code",
      "metadata": {
        "colab": {
          "base_uri": "https://localhost:8080/"
        },
        "id": "d7V11e9-57DQ",
        "outputId": "c8d6ce54-9b39-4070-ff66-f45bfd0e9cb0"
      },
      "source": [
        "!pip install spectral"
      ],
      "execution_count": 1,
      "outputs": [
        {
          "output_type": "stream",
          "text": [
            "Collecting spectral\n",
            "\u001b[?25l  Downloading https://files.pythonhosted.org/packages/ce/06/6a89035cde4eac3ed94e1888f850af653386e8ee827edc72ffc8e445bcb7/spectral-0.22.1-py3-none-any.whl (212kB)\n",
            "\r\u001b[K     |█▌                              | 10kB 16.1MB/s eta 0:00:01\r\u001b[K     |███                             | 20kB 8.0MB/s eta 0:00:01\r\u001b[K     |████▋                           | 30kB 6.9MB/s eta 0:00:01\r\u001b[K     |██████▏                         | 40kB 7.1MB/s eta 0:00:01\r\u001b[K     |███████▊                        | 51kB 4.3MB/s eta 0:00:01\r\u001b[K     |█████████▎                      | 61kB 4.4MB/s eta 0:00:01\r\u001b[K     |██████████▊                     | 71kB 4.5MB/s eta 0:00:01\r\u001b[K     |████████████▎                   | 81kB 4.7MB/s eta 0:00:01\r\u001b[K     |█████████████▉                  | 92kB 5.2MB/s eta 0:00:01\r\u001b[K     |███████████████▍                | 102kB 5.6MB/s eta 0:00:01\r\u001b[K     |█████████████████               | 112kB 5.6MB/s eta 0:00:01\r\u001b[K     |██████████████████▌             | 122kB 5.6MB/s eta 0:00:01\r\u001b[K     |████████████████████            | 133kB 5.6MB/s eta 0:00:01\r\u001b[K     |█████████████████████▌          | 143kB 5.6MB/s eta 0:00:01\r\u001b[K     |███████████████████████         | 153kB 5.6MB/s eta 0:00:01\r\u001b[K     |████████████████████████▋       | 163kB 5.6MB/s eta 0:00:01\r\u001b[K     |██████████████████████████▏     | 174kB 5.6MB/s eta 0:00:01\r\u001b[K     |███████████████████████████▊    | 184kB 5.6MB/s eta 0:00:01\r\u001b[K     |█████████████████████████████▎  | 194kB 5.6MB/s eta 0:00:01\r\u001b[K     |██████████████████████████████▊ | 204kB 5.6MB/s eta 0:00:01\r\u001b[K     |████████████████████████████████| 215kB 5.6MB/s \n",
            "\u001b[?25hRequirement already satisfied: numpy in /usr/local/lib/python3.7/dist-packages (from spectral) (1.19.5)\n",
            "Installing collected packages: spectral\n",
            "Successfully installed spectral-0.22.1\n"
          ],
          "name": "stdout"
        }
      ]
    },
    {
      "cell_type": "code",
      "metadata": {
        "id": "7-sHpeFA6DX_"
      },
      "source": [
        "import os\r\n",
        "import tensorflow as tf\r\n",
        "from tensorflow.keras.optimizers import Adam\r\n",
        "from tensorflow import keras\r\n",
        "from keras.utils import np_utils\r\n",
        "import sklearn\r\n",
        "import pandas as pd\r\n",
        "import numpy as np\r\n",
        "from scipy.io import loadmat\r\n",
        "import matplotlib.pyplot as plt\r\n",
        "from PIL import Image\r\n",
        "from sklearn.metrics import mean_squared_error, r2_score,classification_report\r\n",
        "from sklearn.model_selection import train_test_split\r\n",
        "import spectral\r\n",
        "from spectral import principal_components,open_image\r\n",
        "from matplotlib.pyplot import imshow\r\n",
        "from sklearn.decomposition import PCA \r\n",
        "from spectral import create_training_classes,GaussianClassifier\r\n",
        "from tensorflow.keras.models import load_model"
      ],
      "execution_count": 7,
      "outputs": []
    },
    {
      "cell_type": "code",
      "metadata": {
        "id": "tlzI3f506Efz"
      },
      "source": [
        "X=loadmat(r'/content/drive/MyDrive/ANN project/Indian_pines_corrected.mat')['indian_pines_corrected']\r\n",
        "Y=loadmat(r'/content/drive/MyDrive/ANN project/Indian_pines_gt.mat')['indian_pines_gt']"
      ],
      "execution_count": 5,
      "outputs": []
    },
    {
      "cell_type": "code",
      "metadata": {
        "id": "rPg9xKJi6GPn"
      },
      "source": [
        "model = load_model(r'/content/drive/MyDrive/ANN project/indiana_pines_model_2.h5')"
      ],
      "execution_count": 8,
      "outputs": []
    },
    {
      "cell_type": "code",
      "metadata": {
        "id": "rUlMLsdV9Ake"
      },
      "source": [
        "def Selecting_Patch(data,hi,wi):\r\n",
        "    slice_h= slice(hi, hi+PATCH_SIZE)\r\n",
        "    slice_w = slice(wi, wi+PATCH_SIZE)\r\n",
        "    patch = data[slice_h, slice_w, :]\r\n",
        "    return patch"
      ],
      "execution_count": 9,
      "outputs": []
    },
    {
      "cell_type": "code",
      "metadata": {
        "colab": {
          "base_uri": "https://localhost:8080/"
        },
        "id": "TtdIepzp9XNJ",
        "outputId": "acaae5b0-b029-4747-b12f-104b96108b5e"
      },
      "source": [
        "print(X.shape,Y.shape)"
      ],
      "execution_count": 10,
      "outputs": [
        {
          "output_type": "stream",
          "text": [
            "(145, 145, 200) (145, 145)\n"
          ],
          "name": "stdout"
        }
      ]
    },
    {
      "cell_type": "code",
      "metadata": {
        "id": "KcH_tA4Y9Zy1"
      },
      "source": [
        "pc = principal_components(X)\r\n",
        "pc_0989 = pc.reduce(fraction=0.989)\r\n",
        "img_pc = pc_0989.transform(X)"
      ],
      "execution_count": 11,
      "outputs": []
    },
    {
      "cell_type": "code",
      "metadata": {
        "colab": {
          "base_uri": "https://localhost:8080/"
        },
        "id": "Mt3a2dGo9jI_",
        "outputId": "a2110847-c9f1-4e8e-e67d-e870a24b5151"
      },
      "source": [
        "img_pc.shape"
      ],
      "execution_count": 13,
      "outputs": [
        {
          "output_type": "execute_result",
          "data": {
            "text/plain": [
              "(145, 145, 24)"
            ]
          },
          "metadata": {
            "tags": []
          },
          "execution_count": 13
        }
      ]
    },
    {
      "cell_type": "code",
      "metadata": {
        "id": "SAOgh7Xn9kqJ"
      },
      "source": [
        "height = 145\r\n",
        "width = 145\r\n",
        "\r\n",
        "PATCH_SIZE = 25\r\n",
        "numComponents = 24"
      ],
      "execution_count": 14,
      "outputs": []
    },
    {
      "cell_type": "code",
      "metadata": {
        "id": "lE2mrGY993B2"
      },
      "source": [
        "def padding_with_zeros(X, margin=2):\r\n",
        "    newX = np.zeros((X.shape[0] + 2 * margin, X.shape[1] + 2* margin, X.shape[2]))\r\n",
        "    x_offset = margin\r\n",
        "    y_offset = margin\r\n",
        "    newX[x_offset:X.shape[0] + x_offset, y_offset:X.shape[1] + y_offset, :] = X\r\n",
        "    return newX"
      ],
      "execution_count": 17,
      "outputs": []
    },
    {
      "cell_type": "code",
      "metadata": {
        "id": "c9LLb_eH9t35"
      },
      "source": [
        "X_padd = padding_with_zeros(img_pc, 12)"
      ],
      "execution_count": 18,
      "outputs": []
    },
    {
      "cell_type": "code",
      "metadata": {
        "colab": {
          "base_uri": "https://localhost:8080/"
        },
        "id": "LyRDN3Tp9yWi",
        "outputId": "d8c37dae-1199-4160-b7cd-a261743ce6d2"
      },
      "source": [
        "X_padd.shape"
      ],
      "execution_count": 20,
      "outputs": [
        {
          "output_type": "execute_result",
          "data": {
            "text/plain": [
              "(169, 169, 24)"
            ]
          },
          "metadata": {
            "tags": []
          },
          "execution_count": 20
        }
      ]
    },
    {
      "cell_type": "code",
      "metadata": {
        "id": "u0DtFAcu969O"
      },
      "source": [
        "outputs = np.zeros((height,width))\r\n",
        "for i in range(height):\r\n",
        "    for j in range(width):\r\n",
        "        target = int(Y[i,j])\r\n",
        "        if target == 0 :\r\n",
        "            continue\r\n",
        "        else :\r\n",
        "            image_patch=Selecting_Patch(X_padd,i,j) #selecting patch around each pixel\r\n",
        "            X_test_image = image_patch.reshape(1,image_patch.shape[0],image_patch.shape[1], image_patch.shape[2], 1).astype('float32')   #reshaping it\r\n",
        "            prediction = (model.predict(X_test_image)) \r\n",
        "            prediction = np.argmax(prediction, axis=1)\r\n",
        "            outputs[i][j] = prediction+1"
      ],
      "execution_count": 21,
      "outputs": []
    },
    {
      "cell_type": "code",
      "metadata": {
        "colab": {
          "base_uri": "https://localhost:8080/",
          "height": 357
        },
        "id": "k4S7MB1L-L35",
        "outputId": "0ba0a152-fa31-4a25-ade4-b328ce194d68"
      },
      "source": [
        "spectral.imshow(classes=Y.astype(int),figsize =(5,5))\r\n"
      ],
      "execution_count": 22,
      "outputs": [
        {
          "output_type": "execute_result",
          "data": {
            "text/plain": [
              "ImageView object:\n",
              "  Interpolation       :  <default>"
            ]
          },
          "metadata": {
            "tags": []
          },
          "execution_count": 22
        },
        {
          "output_type": "display_data",
          "data": {
            "image/png": "[encoded data removed]",
            "text/plain": [
              "<Figure size 360x360 with 1 Axes>"
            ]
          },
          "metadata": {
            "tags": [],
            "needs_background": "light"
          }
        }
      ]
    },
    {
      "cell_type": "code",
      "metadata": {
        "colab": {
          "base_uri": "https://localhost:8080/",
          "height": 357
        },
        "id": "xl3LarX4-pbT",
        "outputId": "569983cb-def7-4ba2-bd00-7b9abdd0d916"
      },
      "source": [
        "spectral.imshow(classes=outputs.astype(int),figsize =(5,5))"
      ],
      "execution_count": 23,
      "outputs": [
        {
          "output_type": "execute_result",
          "data": {
            "text/plain": [
              "ImageView object:\n",
              "  Interpolation       :  <default>"
            ]
          },
          "metadata": {
            "tags": []
          },
          "execution_count": 23
        },
        {
          "output_type": "display_data",
          "data": {
            "image/png": "[encoded data removed]",
            "text/plain": [
              "<Figure size 360x360 with 1 Axes>"
            ]
          },
          "metadata": {
            "tags": [],
            "needs_background": "light"
          }
        }
      ]
    },
    {
      "cell_type": "code",
      "metadata": {
        "colab": {
          "base_uri": "https://localhost:8080/",
          "height": 357
        },
        "id": "pj5JYixu_A9d",
        "outputId": "7bed2909-b54d-4452-ccb9-835e8c3d3267"
      },
      "source": [
        "error=outputs*(outputs!=Y)\r\n",
        "spectral.imshow(classes=error.astype(int),figsize =(5,5))"
      ],
      "execution_count": 24,
      "outputs": [
        {
          "output_type": "execute_result",
          "data": {
            "text/plain": [
              "ImageView object:\n",
              "  Interpolation       :  <default>"
            ]
          },
          "metadata": {
            "tags": []
          },
          "execution_count": 24
        },
        {
          "output_type": "display_data",
          "data": {
            "image/png": "[encoded data removed]",
            "text/plain": [
              "<Figure size 360x360 with 1 Axes>"
            ]
          },
          "metadata": {
            "tags": [],
            "needs_background": "light"
          }
        }
      ]
    },
    {
      "cell_type": "code",
      "metadata": {
        "id": "5F1NICaf_Ck_"
      },
      "source": [
        ""
      ],
      "execution_count": null,
      "outputs": []
    }
  ]
}